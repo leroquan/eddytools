{
 "cells": [
  {
   "cell_type": "code",
   "outputs": [],
   "source": [
    "import numpy as np\n",
    "import xarray as xr\n",
    "\n",
    "import matplotlib.pyplot as plt\n",
    "from matplotlib.lines import Line2D\n",
    "\n",
    "from utils_mitgcm import open_mitgcm_ds_from_config"
   ],
   "metadata": {
    "collapsed": false,
    "ExecuteTime": {
     "end_time": "2025-07-04T16:01:27.810195Z",
     "start_time": "2025-07-04T16:01:27.803457Z"
    }
   },
   "id": "449971fa3868fe81",
   "execution_count": 14
  },
  {
   "cell_type": "code",
   "outputs": [],
   "source": [
    "model = 'geneva_200m'"
   ],
   "metadata": {
    "collapsed": false,
    "ExecuteTime": {
     "end_time": "2025-07-04T15:58:14.905760Z",
     "start_time": "2025-07-04T15:58:14.902297Z"
    }
   },
   "id": "63ea2f4877f2e9ff",
   "execution_count": 3
  },
  {
   "cell_type": "code",
   "outputs": [],
   "source": [
    "outputpath = \"../99-Outputs/nencioli/\""
   ],
   "metadata": {
    "collapsed": false,
    "ExecuteTime": {
     "end_time": "2025-07-04T15:58:14.929401Z",
     "start_time": "2025-07-04T15:58:14.907142Z"
    }
   },
   "id": "1919ff376a88c547",
   "execution_count": 4
  },
  {
   "cell_type": "markdown",
   "source": [
    "# Open MITgcm results"
   ],
   "metadata": {
    "collapsed": false
   },
   "id": "89caaea9deca4893"
  },
  {
   "cell_type": "code",
   "outputs": [],
   "source": [
    "mitgcm_config, ds_mitgcm = open_mitgcm_ds_from_config('../config.json', model)"
   ],
   "metadata": {
    "collapsed": false,
    "ExecuteTime": {
     "end_time": "2025-07-04T15:58:20.454917Z",
     "start_time": "2025-07-04T15:58:14.936476Z"
    }
   },
   "id": "97b49f32793eee61",
   "execution_count": 5
  },
  {
   "cell_type": "code",
   "outputs": [],
   "source": [
    "temp_ini = ds_mitgcm.THETA.isel(time=0,Z=0)\n",
    "mask = temp_ini.where(abs(temp_ini) > 1e-10).values"
   ],
   "metadata": {
    "collapsed": false,
    "ExecuteTime": {
     "end_time": "2025-07-04T15:58:20.539432Z",
     "start_time": "2025-07-04T15:58:20.457050Z"
    }
   },
   "id": "a15998a878852877",
   "execution_count": 6
  },
  {
   "cell_type": "markdown",
   "source": [
    "# Open eddy dataset"
   ],
   "metadata": {
    "collapsed": false
   },
   "id": "d10feafd5cc7c9c1"
  },
  {
   "cell_type": "code",
   "outputs": [],
   "source": [
    "eddies_nencioli_path = r'../99-Outputs/nencioli/winding_criteria_eddies.nc'\n",
    "xr_eddies_nencioli = xr.open_dataset(eddies_nencioli_path)"
   ],
   "metadata": {
    "collapsed": false,
    "ExecuteTime": {
     "end_time": "2025-07-04T15:58:20.567160Z",
     "start_time": "2025-07-04T15:58:20.541423Z"
    }
   },
   "id": "2cf13672d4ad142b",
   "execution_count": 7
  },
  {
   "cell_type": "code",
   "outputs": [],
   "source": [
    "eddies_swirl_path = r'../99-Outputs/swirl/200m_eddies.nc'\n",
    "xr_eddies_swirl = xr.open_dataset(eddies_swirl_path)"
   ],
   "metadata": {
    "collapsed": false,
    "ExecuteTime": {
     "end_time": "2025-07-04T15:58:20.577573Z",
     "start_time": "2025-07-04T15:58:20.569336Z"
    }
   },
   "id": "6531744f399a17f4",
   "execution_count": 8
  },
  {
   "cell_type": "markdown",
   "source": [
    "# Plot"
   ],
   "metadata": {
    "collapsed": false
   },
   "id": "afe4ed5112ef9607"
  },
  {
   "cell_type": "code",
   "outputs": [],
   "source": [
    "def plot_stream_velocity(ax, snapshot_vel, stream_density = 6):\n",
    "    x_plot, y_plot = np.meshgrid(snapshot_vel['XC'], snapshot_vel['YC'])\n",
    "    u_plot = snapshot_vel['UVEL'].values\n",
    "    v_plot = snapshot_vel['VVEL'].values\n",
    "\n",
    "    # Plot streamlines\n",
    "    ax.streamplot(x_plot, y_plot, u_plot, v_plot, \n",
    "                   density=stream_density, color='black', linewidth=0.5, \n",
    "                   arrowsize=0.7, arrowstyle='->')"
   ],
   "metadata": {
    "collapsed": false,
    "ExecuteTime": {
     "end_time": "2025-07-04T15:58:20.597310Z",
     "start_time": "2025-07-04T15:58:20.578866Z"
    }
   },
   "id": "1843f15b90d793de",
   "execution_count": 9
  },
  {
   "cell_type": "code",
   "outputs": [],
   "source": [
    "def plot_snapshot(t_index, ds_mitgcm, xr_eddies_nencioli, xr_eddies_swirl):\n",
    "    time = ds_mitgcm.isel(time=t_index).time.values\n",
    "    \n",
    "    fig = plt.figure(figsize=(20,7))\n",
    "    snapshot_vel = ds_mitgcm.isel(time=t_index, Z=0)\n",
    "    x_plot, y_plot = np.meshgrid(snapshot_vel['XC'], snapshot_vel['YC'])\n",
    "    u_plot = snapshot_vel['UVEL'].values\n",
    "    v_plot = snapshot_vel['VVEL'].values\n",
    "    \n",
    "    snapshot_vel.UVEL.plot()\n",
    "    # Plot streamlines\n",
    "    plt.streamplot(x_plot, y_plot, u_plot, v_plot, \n",
    "                   density=10, color='black', linewidth=0.5, \n",
    "                   arrowsize=0.7, arrowstyle='->')\n",
    "    \n",
    "    snapshot_nencioli = xr_eddies_nencioli.sel(eddy_id=xr_eddies_nencioli.time == time)\n",
    "    snapshot_nencioli = snapshot_nencioli.sel(eddy_id=snapshot_nencioli.valid_eddy == 1)\n",
    "    plt.scatter(snapshot_nencioli.lon.values, \n",
    "               snapshot_nencioli.lat.values, \n",
    "               color='black', \n",
    "               edgecolors='black',\n",
    "               linewidth=1,\n",
    "               marker='o',\n",
    "               s=50,\n",
    "               zorder=10)\n",
    "    \n",
    "    snapshot_swirl = xr_eddies_swirl.sel(eddy_id=xr_eddies_swirl.time == time)\n",
    "    colors_swirl = ['gold' if t == -1 else 'green' for t in snapshot_swirl.type.values]\n",
    "    plt.scatter(snapshot_swirl.x_center.values, \n",
    "               snapshot_swirl.y_center.values, \n",
    "               color=colors_swirl, \n",
    "               edgecolors='black',\n",
    "               linewidth=1,\n",
    "               marker='^',\n",
    "               s=50,\n",
    "               zorder=10)\n",
    "    plt.title(time)\n",
    "    \n",
    "    nencioli_handle = Line2D([], [], marker='o', color='black', markersize=8, linestyle='None',\n",
    "                                label='Nencioli')\n",
    "    swirl_handle = Line2D([], [], marker='^', color='black', markersize=8, linestyle='None',\n",
    "                            label='SWIRL')\n",
    "    \n",
    "    # Add to legend\n",
    "    plt.legend(handles=[nencioli_handle, swirl_handle], loc='upper right')\n",
    "    \n",
    "    return fig"
   ],
   "metadata": {
    "collapsed": false,
    "ExecuteTime": {
     "end_time": "2025-07-04T16:07:37.850168Z",
     "start_time": "2025-07-04T16:07:37.833845Z"
    }
   },
   "id": "4b5b15b9d9c2382",
   "execution_count": 22
  },
  {
   "cell_type": "code",
   "outputs": [],
   "source": [
    "for t in range(len(ds_mitgcm.time.values)):\n",
    "    fig = plot_snapshot(t,ds_mitgcm,xr_eddies_nencioli,xr_eddies_swirl)\n",
    "    plt.savefig(rf'../99-Outputs/comparison/nencioli_vs_swirl/t{t}')\n",
    "    plt.close('all')"
   ],
   "metadata": {
    "collapsed": false,
    "ExecuteTime": {
     "end_time": "2025-07-04T17:37:41.051587Z",
     "start_time": "2025-07-04T16:07:38.672608Z"
    }
   },
   "id": "b9977d001b6ba77",
   "execution_count": 23
  },
  {
   "cell_type": "code",
   "outputs": [],
   "source": [],
   "metadata": {
    "collapsed": false
   },
   "id": "6c6baa8ad00db595"
  }
 ],
 "metadata": {
  "kernelspec": {
   "display_name": "Python 3",
   "language": "python",
   "name": "python3"
  },
  "language_info": {
   "codemirror_mode": {
    "name": "ipython",
    "version": 2
   },
   "file_extension": ".py",
   "mimetype": "text/x-python",
   "name": "python",
   "nbconvert_exporter": "python",
   "pygments_lexer": "ipython2",
   "version": "2.7.6"
  }
 },
 "nbformat": 4,
 "nbformat_minor": 5
}
