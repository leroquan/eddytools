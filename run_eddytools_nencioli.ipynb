{
 "cells": [
  {
   "cell_type": "code",
   "execution_count": 5,
   "id": "a169e403-046e-4714-bbe8-b7ce41348320",
   "metadata": {},
   "outputs": [],
   "source": [
    "import eddytools as et\n",
    "import xmitgcm as xm"
   ]
  },
  {
   "cell_type": "code",
   "execution_count": 2,
   "id": "86a7aad0-d7f9-4fd8-9840-08b31a56f631",
   "metadata": {},
   "outputs": [
    {
     "ename": "TypeError",
     "evalue": "detect_UV() missing 5 required positional arguments: 'data', 'det_param', 'u_var', 'v_var', and 'speed_var'",
     "output_type": "error",
     "traceback": [
      "\u001b[0;31m---------------------------------------------------------------------------\u001b[0m",
      "\u001b[0;31mTypeError\u001b[0m                                 Traceback (most recent call last)",
      "Cell \u001b[0;32mIn[2], line 1\u001b[0m\n\u001b[0;32m----> 1\u001b[0m \u001b[43met\u001b[49m\u001b[38;5;241;43m.\u001b[39;49m\u001b[43mdetection\u001b[49m\u001b[38;5;241;43m.\u001b[39;49m\u001b[43mdetect_UV\u001b[49m\u001b[43m(\u001b[49m\u001b[43m)\u001b[49m\n",
      "\u001b[0;31mTypeError\u001b[0m: detect_UV() missing 5 required positional arguments: 'data', 'det_param', 'u_var', 'v_var', and 'speed_var'"
     ]
    }
   ],
   "source": [
    "et.detection.detect_UV()"
   ]
  },
  {
   "cell_type": "code",
   "execution_count": 3,
   "id": "d166d1d7-afdf-4531-ba01-75a3b6b9048b",
   "metadata": {},
   "outputs": [],
   "source": [
    "# paths\n",
    "datapath = '/storage/alplakes_test/MITgcm_results_Leman_Sep2021/results/'\n",
    "gridpath = '/storage/alplakes_test/MITgcm_results_Leman_Sep2021/results/'\n",
    "outputpath = '/home/leroquan@eawag.wroot.emp-eaw.ch/eddytools/workspace/'"
   ]
  },
  {
   "cell_type": "code",
   "execution_count": 6,
   "id": "bc0d8682-11a1-4642-900f-f78b81c52186",
   "metadata": {},
   "outputs": [],
   "source": [
    "# load data\n",
    "dt = 4.\n",
    "data = xm.open_mdsdataset(datapath, delta_t=dt,\n",
    "                            ignore_unknown_vars=True, grid_dir=gridpath, \n",
    "                            geometry=\"cartesian\", calendar=\"standard\", ref_date=\"2021-07-26 0:0:0\", \n",
    "                            prefix=\"3Dsnaps\", endian='<')\n",
    "data = data.chunk({'time': 1, 'Z': 55, 'Zl': 55, 'Zu': 55, 'Zp1': 56, 'XC': 250, 'XG': 250, 'YC': 300, 'YG': 300})"
   ]
  },
  {
   "cell_type": "code",
   "execution_count": null,
   "id": "32d556b6-77a0-4671-bc4d-0834a3893edd",
   "metadata": {},
   "outputs": [],
   "source": []
  }
 ],
 "metadata": {
  "kernelspec": {
   "display_name": "Python 3 (ipykernel)",
   "language": "python",
   "name": "python3"
  },
  "language_info": {
   "codemirror_mode": {
    "name": "ipython",
    "version": 3
   },
   "file_extension": ".py",
   "mimetype": "text/x-python",
   "name": "python",
   "nbconvert_exporter": "python",
   "pygments_lexer": "ipython3",
   "version": "3.10.8"
  }
 },
 "nbformat": 4,
 "nbformat_minor": 5
}
