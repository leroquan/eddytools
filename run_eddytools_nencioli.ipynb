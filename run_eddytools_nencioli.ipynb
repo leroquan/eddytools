{
 "cells": [
  {
   "cell_type": "code",
   "execution_count": 2,
   "id": "a169e403-046e-4714-bbe8-b7ce41348320",
   "metadata": {
    "ExecuteTime": {
     "end_time": "2024-12-17T15:43:38.506890Z",
     "start_time": "2024-12-17T15:43:30.260503Z"
    }
   },
   "outputs": [],
   "source": [
    "import numpy as np\n",
    "import xarray as xr\n",
    "import xmitgcm as xm\n",
    "\n",
    "import eddytools as et"
   ]
  },
  {
   "cell_type": "code",
   "execution_count": 3,
   "id": "d166d1d7-afdf-4531-ba01-75a3b6b9048b",
   "metadata": {
    "ExecuteTime": {
     "end_time": "2024-12-17T15:43:38.522375Z",
     "start_time": "2024-12-17T15:43:38.510100Z"
    }
   },
   "outputs": [],
   "source": [
    "# paths\n",
    "datapath = r\"/scratch/snx3000/aleroqua/geneva_200m_4months/run_01\"\n",
    "gridpath = datapath\n",
    "outputpath = \"./workspace/nencioli/\"\n",
    "ref_date = \"2023-12-01 0:0:0\""
   ]
  },
  {
   "cell_type": "code",
   "execution_count": 4,
   "id": "bc0d8682-11a1-4642-900f-f78b81c52186",
   "metadata": {
    "ExecuteTime": {
     "end_time": "2024-12-17T15:45:42.913954Z",
     "start_time": "2024-12-17T15:45:36.808552Z"
    }
   },
   "outputs": [],
   "source": [
    "# load data\n",
    "dt = 4.0\n",
    "data = xm.open_mdsdataset(\n",
    "    datapath,\n",
    "    delta_t=dt,\n",
    "    ignore_unknown_vars=True,\n",
    "    grid_dir=gridpath,\n",
    "    geometry=\"cartesian\",\n",
    "    calendar=\"standard\",\n",
    "    ref_date=ref_date,\n",
    "    prefix=\"3Dsnaps\",\n",
    "    endian=\"<\",\n",
    ")"
   ]
  },
  {
   "cell_type": "code",
   "execution_count": 5,
   "id": "3da6f572bcd4af5",
   "metadata": {
    "ExecuteTime": {
     "end_time": "2024-12-17T15:46:15.429346Z",
     "start_time": "2024-12-17T15:46:15.409113Z"
    },
    "collapsed": false,
    "jupyter": {
     "outputs_hidden": false
    }
   },
   "outputs": [],
   "source": [
    "str_start_time = \"2023-12-24T00:30:00.000000000\"\n",
    "str_end_time = \"2023-12-25T00:30:00.000000000\"\n",
    "\n",
    "start_date_analysis = np.datetime64(str_start_time)\n",
    "end_date_analysis = np.datetime64(str_end_time)\n",
    "\n",
    "data_cropped = data.sel(time=slice(start_date_analysis, end_date_analysis))\n",
    "data_cropped = data_cropped.isel(Z=[0, 1])"
   ]
  },
  {
   "cell_type": "code",
   "execution_count": 6,
   "id": "95ec4c83ef76273c",
   "metadata": {
    "ExecuteTime": {
     "end_time": "2024-12-17T14:54:07.123419Z",
     "start_time": "2024-12-17T14:54:07.065092Z"
    },
    "collapsed": false,
    "jupyter": {
     "outputs_hidden": false
    }
   },
   "outputs": [],
   "source": [
    "data_cropped[\"SPEED\"] = np.sqrt(data_cropped[\"UVEL\"] ** 2 + data_cropped[\"VVEL\"] ** 2)"
   ]
  },
  {
   "cell_type": "code",
   "execution_count": 7,
   "id": "b6dd08a1afbc87fe",
   "metadata": {
    "ExecuteTime": {
     "end_time": "2024-12-17T15:50:27.053081Z",
     "start_time": "2024-12-17T15:50:27.023622Z"
    },
    "collapsed": false,
    "jupyter": {
     "outputs_hidden": false
    }
   },
   "outputs": [],
   "source": [
    "VVEL_new = (\n",
    "    data_cropped[\"VVEL\"]\n",
    "    .rename({\"YG\": \"lat\", \"XC\": \"lon\", \"Z\": \"Depth\"})\n",
    "    .assign_coords(lat=data_cropped[\"YC\"].values)\n",
    ")\n",
    "UVEL_new = (\n",
    "    data_cropped[\"UVEL\"]\n",
    "    .rename({\"XG\": \"lon\", \"YC\": \"lat\", \"Z\": \"Depth\"})\n",
    "    .assign_coords(lon=data_cropped[\"XC\"].values)\n",
    ")\n",
    "\n",
    "data_aligned = xr.Dataset(\n",
    "    {\n",
    "        \"UVEL\": UVEL_new,\n",
    "        \"VVEL\": VVEL_new,\n",
    "    },\n",
    "    coords={\n",
    "        \"lon\": data_cropped[\"XC\"].values,\n",
    "        \"lat\": data_cropped[\"YC\"].values,\n",
    "        \"Depth\": data_cropped[\"Z\"].values,\n",
    "    },\n",
    ")\n",
    "\n",
    "data_aligned[\"SPEED\"] = np.sqrt(data_aligned[\"UVEL\"] ** 2 + data_aligned[\"VVEL\"] ** 2)"
   ]
  },
  {
   "cell_type": "code",
   "execution_count": 8,
   "id": "b6942ae3eda31e62",
   "metadata": {
    "ExecuteTime": {
     "end_time": "2024-12-17T16:17:56.847982Z",
     "start_time": "2024-12-17T16:17:56.836001Z"
    },
    "collapsed": false,
    "jupyter": {
     "outputs_hidden": false
    }
   },
   "outputs": [],
   "source": [
    "# Specify parameters for eddy detection\n",
    "detection_parameters = {\n",
    "    \"model\": \"MITgcm\",\n",
    "    \"grid\": \"cartesian\",\n",
    "    \"hemi\": \"north\",\n",
    "    \"start_time\": str_start_time,  # time range start\n",
    "    \"end_time\": str_end_time,  # time range end\n",
    "    \"calendar\": \"standard\",  # calendar, must be either 360_day or standard\n",
    "    \"lon1\": 100,  # minimum longitude of detection region\n",
    "    \"lon2\": 65000,  # maximum longitude\n",
    "    \"lat1\": 100,  # minimum latitude\n",
    "    \"lat2\": 25000,  # maximum latitude\n",
    "    \"res\": 10.0,  # resolution of the fields in km\n",
    "    \"min_dep\": 250,  # minimum ocean depth where to look for eddies in m\n",
    "    \"Npix_min\": 1000,  # minimum number of pixels (grid cells) to be considered as eddy\n",
    "    \"Npix_max\": 5000,  # maximum number of pixels (grid cells)\n",
    "    \"no_long\": False,  # If True, elongated shapes will not be considered\n",
    "    \"no_two\": False,  # If True, eddies with two minima in the OW\n",
    "    # parameter and a OW > OW_thr in between  will not\n",
    "    # be considered\n",
    "    \"a\": 10,\n",
    "    \"b\": 2,\n",
    "    \"rad\": 4,\n",
    "}"
   ]
  },
  {
   "cell_type": "code",
   "execution_count": 9,
   "id": "8b3b54919cf13a2e",
   "metadata": {
    "ExecuteTime": {
     "end_time": "2024-12-17T16:17:58.357346Z",
     "start_time": "2024-12-17T16:17:57.040973Z"
    },
    "collapsed": false,
    "jupyter": {
     "outputs_hidden": false
    }
   },
   "outputs": [
    {
     "name": "stdout",
     "output_type": "stream",
     "text": [
      "preparing data for eddy detection (masking and region extracting etc.)\n",
      "step2\n",
      "step3\n",
      "step3.0\n",
      "step3.1\n",
      "step3.2\n",
      "step3.3\n",
      "step4\n",
      "step5\n",
      "step5\n",
      "detection at time step  1  of  25\n",
      "step5\n",
      "step5\n",
      "step5\n",
      "detection at time step  4  of  25\n",
      "step5\n",
      "step5\n",
      "step5\n",
      "detection at time step  7  of  25\n",
      "step5\n",
      "step5\n",
      "detection at time step  9  of  25\n",
      "step5\n",
      "step5\n",
      "step5\n",
      "detection at time step  12  of  25\n",
      "step5\n",
      "step5\n",
      "step5\n",
      "detection at time step  15  of  25\n",
      "step5\n",
      "step5\n",
      "step5\n",
      "detection at time step  18  of  25\n",
      "step5\n",
      "step5\n",
      "detection at time step  20  of  25\n",
      "step5\n",
      "step5\n",
      "step5\n",
      "detection at time step  23  of  25\n",
      "step5\n",
      "step5\n"
     ]
    },
    {
     "data": {
      "text/plain": [
       "{0: {},\n",
       " 1: {},\n",
       " 2: {},\n",
       " 3: {},\n",
       " 4: {},\n",
       " 5: {},\n",
       " 6: {},\n",
       " 7: {},\n",
       " 8: {},\n",
       " 9: {},\n",
       " 10: {},\n",
       " 11: {},\n",
       " 12: {},\n",
       " 13: {},\n",
       " 14: {},\n",
       " 15: {},\n",
       " 16: {},\n",
       " 17: {},\n",
       " 18: {},\n",
       " 19: {},\n",
       " 20: {},\n",
       " 21: {},\n",
       " 22: {},\n",
       " 23: {},\n",
       " 24: {}}"
      ]
     },
     "execution_count": 9,
     "metadata": {},
     "output_type": "execute_result"
    }
   ],
   "source": [
    "et.detection.detect_UV(data_aligned, detection_parameters, \"UVEL\", \"VVEL\", \"SPEED\")"
   ]
  },
  {
   "cell_type": "code",
   "execution_count": 10,
   "id": "32d556b6-77a0-4671-bc4d-0834a3893edd",
   "metadata": {
    "ExecuteTime": {
     "end_time": "2024-12-17T16:14:45.737080Z",
     "start_time": "2024-12-17T16:14:45.023442Z"
    }
   },
   "outputs": [
    {
     "data": {
      "text/plain": [
       "<matplotlib.collections.QuadMesh at 0x1554579bf430>"
      ]
     },
     "execution_count": 10,
     "metadata": {},
     "output_type": "execute_result"
    },
    {
     "data": {
      "image/png": "[encoded data removed]",
      "text/plain": [
       "<Figure size 432x288 with 2 Axes>"
      ]
     },
     "metadata": {
      "needs_background": "light"
     },
     "output_type": "display_data"
    }
   ],
   "source": [
    "data_aligned[\"UVEL\"].isel(time=-1, Depth=0).plot()"
   ]
  },
  {
   "cell_type": "code",
   "execution_count": null,
   "id": "1229383428a5c1b0",
   "metadata": {
    "collapsed": false,
    "jupyter": {
     "outputs_hidden": false
    }
   },
   "outputs": [],
   "source": []
  }
 ],
 "metadata": {
  "kernelspec": {
   "display_name": "eddytools_venv",
   "language": "python",
   "name": "eddytools_venv"
  },
  "language_info": {
   "codemirror_mode": {
    "name": "ipython",
    "version": 3
   },
   "file_extension": ".py",
   "mimetype": "text/x-python",
   "name": "python",
   "nbconvert_exporter": "python",
   "pygments_lexer": "ipython3",
   "version": "3.9.4"
  }
 },
 "nbformat": 4,
 "nbformat_minor": 5
}
