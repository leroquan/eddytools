{
 "cells": [
  {
   "cell_type": "code",
   "execution_count": 2,
   "id": "d9f719a1-ca79-4535-a361-c78a3fd9c4a5",
   "metadata": {
    "ExecuteTime": {
     "end_time": "2025-06-30T14:23:01.561286Z",
     "start_time": "2025-06-30T14:22:54.978593Z"
    }
   },
   "outputs": [],
   "source": [
    "import numpy as np\n",
    "import matplotlib.pyplot as plt\n",
    "import matplotlib.tri as tri\n",
    "\n",
    "from utils_mitgcm import open_mitgcm_ds_from_config\n",
    "\n",
    "import eddytools_core as et"
   ]
  },
  {
   "cell_type": "code",
   "execution_count": 3,
   "id": "3e26c30d-0aa6-45b8-8e42-9fdc2b90d94d",
   "metadata": {
    "ExecuteTime": {
     "end_time": "2025-06-30T14:23:01.566809Z",
     "start_time": "2025-06-30T14:23:01.563631Z"
    }
   },
   "outputs": [],
   "source": [
    "model = 'geneva_200m'"
   ]
  },
  {
   "cell_type": "code",
   "execution_count": 4,
   "id": "48187169-f955-4e77-98b0-5e94832d17db",
   "metadata": {
    "ExecuteTime": {
     "end_time": "2025-06-30T14:23:01.600422Z",
     "start_time": "2025-06-30T14:23:01.568040Z"
    }
   },
   "outputs": [],
   "source": [
    "str_start_time = \"2023-07-01T12:00:00.000000000\"\n",
    "str_end_time = \"2023-07-01T22:00:00.000000000\"\n",
    "\n",
    "outputpath = \"./99-Outputs/nencioli/\""
   ]
  },
  {
   "cell_type": "markdown",
   "id": "702d4a92-9a91-42e3-843b-25ce6a1c9cfa",
   "metadata": {},
   "source": [
    "# Open MITgcm results"
   ]
  },
  {
   "cell_type": "code",
   "execution_count": 5,
   "id": "b0878e5b-92c1-4686-8d45-9eaead4e525c",
   "metadata": {
    "ExecuteTime": {
     "end_time": "2025-06-30T14:23:07.325051Z",
     "start_time": "2025-06-30T14:23:01.602536Z"
    }
   },
   "outputs": [],
   "source": [
    "mitgcm_config, ds_to_plot = open_mitgcm_ds_from_config('../config.json', model)"
   ]
  },
  {
   "cell_type": "markdown",
   "id": "547ef1e8-1e5a-4cd5-ba19-1b79dd7fc5cb",
   "metadata": {},
   "source": [
    "# Preprocess MITgcm inputs"
   ]
  },
  {
   "cell_type": "code",
   "execution_count": 6,
   "id": "f7b33f54-3cc4-4ddf-b181-2d09d6ed4a86",
   "metadata": {
    "ExecuteTime": {
     "end_time": "2025-06-30T14:23:07.331483Z",
     "start_time": "2025-06-30T14:23:07.327061Z"
    }
   },
   "outputs": [],
   "source": [
    "grid_resolution_in_meter = ds_to_plot['XC'].values[1] - ds_to_plot['XC'].values[0]"
   ]
  },
  {
   "cell_type": "code",
   "execution_count": 7,
   "id": "78ac6f3b-ce52-450b-bbd8-d3c357afdcaa",
   "metadata": {
    "ExecuteTime": {
     "end_time": "2025-06-30T14:23:07.468420Z",
     "start_time": "2025-06-30T14:23:07.333067Z"
    }
   },
   "outputs": [],
   "source": [
    "data_aligned = et.detection_nencioli.preprocess_inputs(str_start_time, str_end_time, ds_to_plot, depth_index=0)"
   ]
  },
  {
   "cell_type": "markdown",
   "id": "cdd5344e-c19c-409b-9d12-7cd6b83cf33c",
   "metadata": {},
   "source": [
    "# Detecting eddies at a specific timestep"
   ]
  },
  {
   "cell_type": "code",
   "execution_count": 8,
   "id": "9704cfd3-d69a-4a24-a5a0-0aee474af896",
   "metadata": {
    "scrolled": true,
    "ExecuteTime": {
     "end_time": "2025-06-30T14:23:07.475162Z",
     "start_time": "2025-06-30T14:23:07.470270Z"
    }
   },
   "outputs": [],
   "source": [
    "t_index=3\n",
    "# Specify parameters for eddy detection\n",
    "det_param = {\n",
    "    \"model\": \"MITgcm\",\n",
    "    \"grid\": \"cartesian\",\n",
    "    \"hemi\": \"north\",\n",
    "    \"start_time\": str_start_time,  # time range start\n",
    "    \"end_time\": str_end_time,  # time range end\n",
    "    \"calendar\": \"standard\",  # calendar, must be either 360_day or standard\n",
    "    \"lon1\": data_aligned.lon.values.min(),  # minimum longitude of detection region\n",
    "    \"lon2\": data_aligned.lon.values.max(),  # maximum longitude\n",
    "    \"lat1\": data_aligned.lat.values.min(),  # minimum latitude\n",
    "    \"lat2\": data_aligned.lat.values.max(),  # maximum latitude\n",
    "    \"res\": grid_resolution_in_meter / 1000,  # resolution of the fields in km\n",
    "    \"min_dep\": 1,  # minimum ocean depth where to look for eddies in m\n",
    "    \"no_long\": False,  # If True, elongated shapes will not be considered\n",
    "    \"no_two\": False,  # If True, eddies with two minima in the OW\n",
    "    # parameter and a OW > OW_thr in between  will not\n",
    "    # be considered\n",
    "    \"a\": 3, # u/v increase \"a\" points away from reversal\n",
    "    \"b\": 3, # find the velocity minimum within the searching area defined by\n",
    "            # \"b\" around the points that satisfy the first two constraints\n",
    "    \"rad\": 8, # define the space window in which the algorithm looks for the eddy limits\n",
    "}\n"
   ]
  },
  {
   "cell_type": "code",
   "execution_count": null,
   "id": "958569c0-9160-438e-bf29-fb319cdcca64",
   "metadata": {},
   "outputs": [],
   "source": [
    "test_eddies = et.detection_nencioli_winding.detect_UV_core(data_aligned, \n",
    "                           det_param.copy(), \n",
    "                           data_aligned[\"UVEL\"].compute(), \n",
    "                           data_aligned[\"VVEL\"].compute(), \n",
    "                           data_aligned[\"SPEED\"].compute(), \n",
    "                           t_index, \n",
    "                           data_aligned['dxC'].values, \n",
    "                           data_aligned['dyC'].values)"
   ]
  },
  {
   "cell_type": "markdown",
   "source": [
    "# Plotting eddy cores"
   ],
   "metadata": {
    "collapsed": false
   },
   "id": "bcdaaf114ebe0059"
  },
  {
   "cell_type": "code",
   "outputs": [],
   "source": [
    "def plot_map_eddies(snapshot_vel, snapshot_eddies, title, stream_density = 6):\n",
    "    x_plot, y_plot = np.meshgrid(snapshot_vel['lon'], snapshot_vel['lat'])\n",
    "    u_plot = snapshot_vel['UVEL'].values\n",
    "    v_plot = snapshot_vel['VVEL'].values\n",
    "    \n",
    "    plt.close('all')\n",
    "    fig = plt.figure(figsize=(12, 7))\n",
    "\n",
    "    # Plot background scalar field (e.g., UVEL)\n",
    "    snapshot_vel[\"UVEL\"].plot()\n",
    "\n",
    "    # Plot streamlines\n",
    "    plt.streamplot(x_plot, y_plot, u_plot, v_plot, \n",
    "                   density=stream_density, color='black', linewidth=0.5, \n",
    "                   arrowsize=0.7, arrowstyle='->')\n",
    "\n",
    "    # Overlay eddies\n",
    "    for i in range(len(snapshot_eddies)):\n",
    "        \n",
    "        if snapshot_eddies[i]['valid_eddy'] == -1:\n",
    "            plt.scatter(snapshot_eddies[i]['lon'], snapshot_eddies[i]['lat'], c='red')\n",
    "            plt.text(snapshot_eddies[i]['lon'], snapshot_eddies[i]['lat'], f'{round(snapshot_eddies[i][\"winding\"],2)}')\n",
    "            continue\n",
    "            \n",
    "        eddy_i = snapshot_eddies[i]['eddy_i']\n",
    "        eddy_j = snapshot_eddies[i]['eddy_j']\n",
    "        lon_eddy = snapshot_vel['lon'].values[eddy_i]\n",
    "        lat_eddy = snapshot_vel['lat'].values[eddy_j]\n",
    "\n",
    "        try:\n",
    "            triang = tri.Triangulation(lon_eddy, lat_eddy)\n",
    "            plt.tripcolor(triang, facecolors=np.full(len(triang.triangles), 1.0), \n",
    "                          cmap=plt.cm.Greens, vmin=0, vmax=4, alpha=1)\n",
    "        except Exception as e:\n",
    "            plt.scatter(lon_eddy, lat_eddy, c='green')\n",
    "        # Eddy center\n",
    "        plt.scatter(snapshot_eddies[i]['lon'], snapshot_eddies[i]['lat'], c='black')\n",
    "\n",
    "    plt.text(0.02, 0.98, f'Z={round(float(snapshot_vel.Depth.values),2)}m', transform=plt.gca().transAxes, ha='left', va='top')\n",
    "    plt.title(title)\n",
    "    \n",
    "    return fig"
   ],
   "metadata": {
    "collapsed": false
   },
   "id": "d346279db63ca4ae",
   "execution_count": null
  },
  {
   "cell_type": "code",
   "outputs": [],
   "source": [
    "%matplotlib notebook\n",
    "fig = plot_map_eddies(data_aligned.isel(time=t_index), test_eddies, '', stream_density = 1)"
   ],
   "metadata": {
    "collapsed": false
   },
   "id": "5315f81610abd00e",
   "execution_count": null
  },
  {
   "cell_type": "code",
   "outputs": [],
   "source": [],
   "metadata": {
    "collapsed": false,
    "ExecuteTime": {
     "end_time": "2025-06-25T09:07:33.851056Z",
     "start_time": "2025-06-25T09:07:33.845178Z"
    }
   },
   "id": "d41789430b596c8b",
   "execution_count": 11
  }
 ],
 "metadata": {
  "kernelspec": {
   "display_name": "eddytools_venv",
   "language": "python",
   "name": "eddytools_venv"
  },
  "language_info": {
   "codemirror_mode": {
    "name": "ipython",
    "version": 3
   },
   "file_extension": ".py",
   "mimetype": "text/x-python",
   "name": "python",
   "nbconvert_exporter": "python",
   "pygments_lexer": "ipython3",
   "version": "3.10.8"
  }
 },
 "nbformat": 4,
 "nbformat_minor": 5
}
